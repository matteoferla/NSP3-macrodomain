{
 "cells": [
  {
   "cell_type": "markdown",
   "metadata": {},
   "source": [
    "## Generate the fragments"
   ]
  },
  {
   "cell_type": "code",
   "execution_count": null,
   "metadata": {},
   "outputs": [],
   "source": [
    "import os\n",
    "from rdkit import Chem\n",
    "from shutil import copyfile\n",
    "\n",
    "hits = {}\n",
    "# os.mkdir('comprimenda')\n",
    "masterfolder = '/Users/matteo/Desktop/NSP3-macrodomain/mArh/aligned'\n",
    "for subfolder in os.listdir(masterfolder):\n",
    "    molfile = os.path.join(masterfolder, subfolder, f'{subfolder}.mol')\n",
    "    if os.path.exists(molfile):\n",
    "        mol = Chem.MolFromMolFile(molfile)\n",
    "        mol.SetProp('_Name', subfolder)\n",
    "        hits[subfolder] = mol\n",
    "        copyfile(molfile, os.path.join('comprimenda', f'{subfolder}.mol'))"
   ]
  },
  {
   "cell_type": "code",
   "execution_count": null,
   "metadata": {},
   "outputs": [],
   "source": []
  }
 ],
 "metadata": {
  "kernelspec": {
   "display_name": "Python 3",
   "language": "python",
   "name": "python3"
  },
  "language_info": {
   "codemirror_mode": {
    "name": "ipython",
    "version": 3
   },
   "file_extension": ".py",
   "mimetype": "text/x-python",
   "name": "python",
   "nbconvert_exporter": "python",
   "pygments_lexer": "ipython3",
   "version": "3.7.6"
  }
 },
 "nbformat": 4,
 "nbformat_minor": 4
}
