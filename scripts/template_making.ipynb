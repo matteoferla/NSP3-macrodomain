{
 "cells": [
  {
   "cell_type": "markdown",
   "metadata": {},
   "source": [
    "## Generating a model\n",
    "\n",
    "Activity: ADP-ribose-1″-phosphate phosphatase\n",
    "\n",
    "https://www.ncbi.nlm.nih.gov/pmc/articles/PMC1563857/\n",
    "\n",
    "2FAV. N41 catalytic. Mystery. No covalents?\n",
    "\n",
    "1\"P would clash. Alternate unknown form?"
   ]
  },
  {
   "cell_type": "code",
   "execution_count": null,
   "metadata": {},
   "outputs": [],
   "source": [
    "pdbcode = '6WOJ' # ADP bound.\n",
    "\n",
    "from fragmenstein import Victor, Igor\n",
    "\n",
    "Igor.download_map(pdbcode, pdbcode+'.ccp4')\n",
    "\n",
    "# structuure manually inspected. Chain A"
   ]
  },
  {
   "cell_type": "code",
   "execution_count": null,
   "metadata": {},
   "outputs": [],
   "source": [
    "from rdkit_to_params import Params\n",
    "\n",
    "p = Params.from_smiles_w_pdbfile(pdb_file='mono.pdb', \n",
    "                             smiles='Nc1ncnc2n(cnc12)[C@@H]3O[C@H](CO[P@@]([O-])(=O)O[P@@]([O-])(=O)OC[C@H]4O[C@@H](O)[C@H](O)[C@@H]4O)[C@@H](O)[C@H]3O',\n",
    "                             name='APR',\n",
    "                             proximityBonding=False)\n",
    "p.dump('APR.params')"
   ]
  },
  {
   "cell_type": "code",
   "execution_count": null,
   "metadata": {},
   "outputs": [],
   "source": [
    "import pyrosetta\n",
    "\n",
    "pyrosetta.init(extra_options='-no_optH false -mute all -ex1 -ex2 -ignore_unrecognized_res false -load_PDB_components false -ignore_waters false')\n",
    "\n",
    "import nglview\n",
    "\n",
    "nglview.show_rosetta(p.test())"
   ]
  },
  {
   "cell_type": "code",
   "execution_count": null,
   "metadata": {},
   "outputs": [],
   "source": [
    "params_file = 'APR.params'\n",
    "pdbfile = 'mono.pdb'\n",
    "\n",
    "pose = pyrosetta.Pose()\n",
    "params_paths = pyrosetta.rosetta.utility.vector1_string()\n",
    "params_paths.extend([params_file])\n",
    "pyrosetta.generate_nonstandard_residue_set(pose, params_paths)\n",
    "pyrosetta.rosetta.core.import_pose.pose_from_file(pose, pdbfile)\n",
    "Igor.relax_with_ED(pose=pose, ccp4_file=pdbcode+'.ccp4')\n",
    "pose.dump_pdb('mono.r.pdb')"
   ]
  },
  {
   "cell_type": "markdown",
   "metadata": {},
   "source": [
    "inspected and aligned to XChem in PyMOL..."
   ]
  },
  {
   "cell_type": "code",
   "execution_count": null,
   "metadata": {},
   "outputs": [],
   "source": []
  }
 ],
 "metadata": {
  "kernelspec": {
   "display_name": "Python 3",
   "language": "python",
   "name": "python3"
  },
  "language_info": {
   "codemirror_mode": {
    "name": "ipython",
    "version": 3
   },
   "file_extension": ".py",
   "mimetype": "text/x-python",
   "name": "python",
   "nbconvert_exporter": "python",
   "pygments_lexer": "ipython3",
   "version": "3.7.6"
  }
 },
 "nbformat": 4,
 "nbformat_minor": 4
}
