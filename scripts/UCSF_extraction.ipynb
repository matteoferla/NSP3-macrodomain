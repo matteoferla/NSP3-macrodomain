{
 "cells": [
  {
   "cell_type": "markdown",
   "metadata": {
    "collapsed": true,
    "pycharm": {
     "is_executing": false
    }
   },
   "source": [
    "## UCSF\n",
    "\n",
    "The files are not aligned. Align and extract.\n",
    "Note the ligand may be in the other chain or in both.\n"
   ]
  },
  {
   "cell_type": "code",
   "execution_count": null,
   "metadata": {},
   "outputs": [],
   "source": [
    "#folder = '/Users/matteo/Dropbox/File requests/Macrodomain'\n",
    "folder = '20200928_ucsf_pdbs'\n",
    "import os, re, pymol2\n",
    "from fragmenstein import Victor\n",
    "from rdkit import Chem"
   ]
  },
  {
   "cell_type": "code",
   "execution_count": null,
   "metadata": {},
   "outputs": [],
   "source": [
    "prefix = 'UCSF2'"
   ]
  },
  {
   "cell_type": "code",
   "execution_count": null,
   "metadata": {},
   "outputs": [],
   "source": [
    "os.mkdir(f'{prefix}-aligned')\n",
    "os.mkdir(f'{prefix}-hits')"
   ]
  },
  {
   "cell_type": "code",
   "execution_count": null,
   "metadata": {},
   "outputs": [],
   "source": [
    "import pandas as pd\n",
    "\n",
    "master = pd.read_excel('20200928_ucsf_fraglist.xlsx')\n",
    "smilesdex = {row.Dataset_ID: row.SMILES for i, row in master.iterrows()}\n",
    "\n",
    "# the following are manually overridden.\n",
    "smilesdex['mac-x0570'] = 'CC(C)(C)C=1C=C(*)C(O)=C(O)C1'\n",
    "smilesdex['mac-x0453'] = 'NCCC1=CNC=N1'\n",
    "smilesdex['mac-x0139'] = 'CN(CCC(=O)O)C=1N=CN=C2NC=CC12'"
   ]
  },
  {
   "cell_type": "code",
   "execution_count": null,
   "metadata": {},
   "outputs": [],
   "source": [
    "for file in os.listdir(folder):\n",
    "    if '.pdb' not in file:\n",
    "        continue\n",
    "    # name\n",
    "    name = file.replace('.pdb', '')\n",
    "    if os.path.exists(f'{prefix}-hits/{name}.mol'):\n",
    "        #continue\n",
    "        pass\n",
    "    ## Align\n",
    "    #print(f'Aligning {name}')\n",
    "    with pymol2.SingletonPyMOL() as pymol:\n",
    "        pymol.cmd.load(os.path.join(folder, file), name)\n",
    "        pymol.cmd.load('template.pdb', 'template')\n",
    "        pymol.cmd.remove('element H')\n",
    "        pymol.cmd.remove('solvent')\n",
    "        if not pymol.cmd.select(name='keeper', selection=f'{name} and resn LIG'):\n",
    "            raise ValueError(f'There is no residue LIG in {name}')\n",
    "        elif pymol.cmd.select(name='keeper', selection=f'{name} and chain A and resn LIG'):\n",
    "            # ligand is chain A and is its polymer.\n",
    "            pass\n",
    "        elif pymol.cmd.get_model(f'({name} and resn LIG) around 5').atom[0].chain == 'A':\n",
    "            # ligand is not chain A but its polymer is\n",
    "            pymol.cmd.alter(f'{name} and resn LIG', \"chain='A'\")\n",
    "            pymol.cmd.sort()\n",
    "        else:\n",
    "            # neither is chain A.\n",
    "            pymol.cmd.remove(f'chain A and {name}')\n",
    "            pymol.cmd.alter(name, \"chain='A'\")\n",
    "            pymol.cmd.sort()\n",
    "        pymol.cmd.remove(f'{name} and not chain A')\n",
    "        pymol.cmd.align(name, 'template')\n",
    "        pymol.cmd.remove(\"not alt ''+A\")\n",
    "        pymol.cmd.alter('all', \"alt=''\")\n",
    "        pymol.cmd.save(f'{prefix}-aligned/{name}.pdb', selection=f'{name} and chain A')\n",
    "    ## Extract\n",
    "    #print(f'Extracting {name}')\n",
    "    mol = Victor.extract_mol(name=name, \n",
    "                             smiles=smilesdex[name],\n",
    "                             filepath=f'{prefix}-aligned/{name}.pdb', \n",
    "                             removeHs=True)\n",
    "    mol.SetProp('_Name', name)\n",
    "    Chem.MolToMolFile(mol, f'{prefix}-hits/{name}.mol')"
   ]
  }
 ],
 "metadata": {
  "kernelspec": {
   "display_name": "Python 3",
   "language": "python",
   "name": "python3"
  },
  "language_info": {
   "codemirror_mode": {
    "name": "ipython",
    "version": 3
   },
   "file_extension": ".py",
   "mimetype": "text/x-python",
   "name": "python",
   "nbconvert_exporter": "python",
   "pygments_lexer": "ipython3",
   "version": "3.7.6"
  }
 },
 "nbformat": 4,
 "nbformat_minor": 1
}
