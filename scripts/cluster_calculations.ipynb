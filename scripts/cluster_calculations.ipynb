{
 "cells": [
  {
   "cell_type": "code",
   "execution_count": null,
   "metadata": {},
   "outputs": [],
   "source": [
    "import os, re, json\n",
    "from sqlitedict import SqliteDict\n",
    "\n",
    "##############################################\n",
    "cores = 20\n",
    "project = 'mergers'\n",
    "out_path = f'{project}'\n",
    "db_name = f'{project}.sqlite'\n",
    "##############################################"
   ]
  },
  {
   "cell_type": "code",
   "execution_count": null,
   "metadata": {},
   "outputs": [],
   "source": [
    "def process(x):\n",
    "    project = 'mergers'\n",
    "    db_name = f'{project}.sqlite'\n",
    "    import pyrosetta, logging\n",
    "    pyrosetta.distributed.maybe_init(extra_options='-no_optH false -mute all -ignore_unrecognized_res true -load_PDB_components false')\n",
    "    from fragmenstein import Victor\n",
    "    Victor.work_path = f'{project}'  # db_name\n",
    "    Victor.fragmenstein_throw_on_discard= True\n",
    "    Victor.fragmenstein_joining_cutoff = 5 # 10\n",
    "    Victor.quick_renanimation = False\n",
    "    Victor.error_to_catch = Exception\n",
    "    #Victor.enable_stdout(logging.ERROR)\n",
    "    Victor.enable_logfile(f'{project}.log', logging.INFO)\n",
    "    Victor.log_errors()\n",
    "    from sqlitedict import SqliteDict\n",
    "    import json, logging\n",
    "    from fragmenstein.mpro import MProVictor\n",
    "    print('NEW', x)\n",
    "    try:\n",
    "        from rdkit import Chem\n",
    "        \n",
    "        def loadmol(file):\n",
    "            mol = Chem.MolFromMolFile(file)\n",
    "            if mol.GetProp('_Name') == '':\n",
    "                mol.SetProp('_Name', file.split('/')[-1].replace('.mol',''))\n",
    "            return mol\n",
    "        \n",
    "        frags = [loadmol(file) for file in x]\n",
    "        v = Victor.combine(hits=frags,\n",
    "                           pdb_filename='input/template.pdb',\n",
    "                           covalent_resi='81A', # a random residue is still required for the constaint ref atom.\n",
    "                           covalent_resn='CYS')\n",
    "        results = SqliteDict(db_name, encode=json.dumps, decode=json.loads, autocommit=True)\n",
    "        results[v.long_name] = v.summarise()\n",
    "        v.make_pse()\n",
    "    except Exception as error:\n",
    "        name = '-'.join([file.split('/')[-1].replace('.mol','') for file in x])\n",
    "        error_msg = f'{error.__class__.__name__} {error}'\n",
    "        results = SqliteDict(db_name, encode=json.dumps, decode=json.loads, autocommit=True)\n",
    "        name = '-'.join([file.split('/')[-1].replace('.mol','') for file in x])\n",
    "        results[name] = {'error': error_msg}\n",
    "        Victor.journal.critical(f'*** {error_msg}, files: {x}')\n",
    "    except ConnectionError:\n",
    "        pass\n",
    "    print('DONE', x)\n",
    "    return True"
   ]
  },
  {
   "cell_type": "code",
   "execution_count": null,
   "metadata": {},
   "outputs": [],
   "source": [
    "# get stuff started\n",
    "from multiprocessing import Pool\n",
    "import itertools, random, re\n",
    "pool = Pool(cores, maxtasksperchild=1)"
   ]
  },
  {
   "cell_type": "code",
   "execution_count": null,
   "metadata": {},
   "outputs": [],
   "source": [
    "# new\n",
    "results = SqliteDict(db_name, encode=json.dumps, decode=json.loads, autocommit=True)\n",
    "done = list(results.keys())\n",
    "\n",
    "hits = ['newinputs/'+file for file in os.listdir('newinputs') if '.mol' in file]\n",
    "to_do = [(a, b) for a, b in itertools.permutations(hits, 2) if f'{a.split(\"/\")[-1]}-{b.split(\"/\")[-1]}'.replace('.mol', '') not in done]\n",
    "random.shuffle(to_do)\n",
    "print(len(to_do))\n",
    "for pair in to_do:\n",
    "    pool.apply_async(process, (pair,))"
   ]
  },
  {
   "cell_type": "markdown",
   "metadata": {},
   "source": [
    "-----------------\n",
    "\n",
    "\n",
    "## Decompose\n",
    "Not used in final calculations"
   ]
  },
  {
   "cell_type": "code",
   "execution_count": null,
   "metadata": {},
   "outputs": [],
   "source": [
    "import os, shutil\n",
    "\n",
    "shutil.rmtree('frags')\n",
    "os.mkdir('frags')\n",
    "\n",
    "from rdkit import Chem\n",
    "from rdkit.Chem import BRICS, AllChem\n",
    "from IPython.display import display\n",
    "import re\n",
    "from fragmenstein.mpro import MProVictor\n",
    "from scipy.special import comb\n",
    "\n",
    "\n",
    "hit_names = [file for file in os.listdir('input') if '.mol' in file]\n",
    "\n",
    "#max_combinations = 20_000\n",
    "minFragmentSize = 8\n",
    "frags = []\n",
    "letter = 'αβγδεζηθικλμνξοπρστυφχψω'\n",
    "for name in hit_names:\n",
    "    mol = Chem.MolFromMolFile(os.path.join('input', name))\n",
    "    # protect\n",
    "    for atom in mol.GetAtoms():\n",
    "        if atom.GetAtomicNum() == 0:\n",
    "            atom.SetAtomicNum(117)\n",
    "    deco = BRICS.BRICSDecompose(mol,\n",
    "                                returnMols=True, minFragmentSize=minFragmentSize, keepNonLeafNodes=False)\n",
    "    for i, dmol in enumerate(deco):\n",
    "        mod = AllChem.DeleteSubstructs(dmol, Chem.MolFromSmiles('*'))\n",
    "        # deprotect\n",
    "        for atom in mod.GetAtoms():\n",
    "            if atom.GetAtomicNum() == 117:\n",
    "                atom.SetAtomicNum(0)\n",
    "        mod.SetProp('_Name', f\"{name.replace('.mol', '')}_{letter[i]}\")\n",
    "        frags.append(mod)\n",
    "    shutil.copy(os.path.join('input', name), os.path.join('frags', name))\n",
    "\n",
    "for mol in frags:\n",
    "    print(mol.GetProp('_Name'))\n",
    "    try:\n",
    "        Chem.MolToMolFile(mol, f\"frags/{mol.GetProp('_Name')}.mol\")\n",
    "    except Exception as error:\n",
    "        print(error)\n",
    "print('DONE.')"
   ]
  }
 ],
 "metadata": {
  "kernelspec": {
   "display_name": "Python 3",
   "language": "python",
   "name": "python3"
  },
  "language_info": {
   "codemirror_mode": {
    "name": "ipython",
    "version": 3
   },
   "file_extension": ".py",
   "mimetype": "text/x-python",
   "name": "python",
   "nbconvert_exporter": "python",
   "pygments_lexer": "ipython3",
   "version": "3.7.6"
  }
 },
 "nbformat": 4,
 "nbformat_minor": 4
}
